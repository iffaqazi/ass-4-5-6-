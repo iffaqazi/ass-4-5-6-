{
 "cells": [
  {
   "cell_type": "code",
   "execution_count": 1,
   "metadata": {
    "collapsed": false
   },
   "outputs": [
    {
     "name": "stdout",
     "output_type": "stream",
     "text": [
      "Input a number to compute the factiorial : 3\n",
      "6\n"
     ]
    }
   ],
   "source": [
    "#Assignment5:Q1\n",
    "def factorial(n):\n",
    "    if n == 0:\n",
    "        return 1\n",
    "    else:\n",
    "        return n * factorial(n-1)\n",
    "n=int(input(\"Input a number to compute the factiorial : \"))\n",
    "print(factorial(n))\n"
   ]
  },
  {
   "cell_type": "code",
   "execution_count": 2,
   "metadata": {
    "collapsed": false
   },
   "outputs": [
    {
     "name": "stdout",
     "output_type": "stream",
     "text": [
      "('Original String : ', 'The quick Brown Fox')\n",
      "('No. of Upper case characters : ', 3)\n",
      "('No. of Lower case Characters : ', 13)\n"
     ]
    }
   ],
   "source": [
    "#Q2\n",
    "def string_test(s):\n",
    "    d={\"UPPER_CASE\":0, \"LOWER_CASE\":0}\n",
    "    for c in s:\n",
    "        if c.isupper():\n",
    "           d[\"UPPER_CASE\"]+=1\n",
    "        elif c.islower():\n",
    "           d[\"LOWER_CASE\"]+=1\n",
    "        else:\n",
    "           pass\n",
    "    print (\"Original String : \", s)\n",
    "    print (\"No. of Upper case characters : \", d[\"UPPER_CASE\"])\n",
    "    print (\"No. of Lower case Characters : \", d[\"LOWER_CASE\"])\n",
    "\n",
    "string_test('The quick Brown Fox')\n"
   ]
  },
  {
   "cell_type": "code",
   "execution_count": 10,
   "metadata": {
    "collapsed": false
   },
   "outputs": [
    {
     "ename": "SyntaxError",
     "evalue": "invalid syntax (<ipython-input-10-f0a2f097bf6a>, line 4)",
     "output_type": "error",
     "traceback": [
      "\u001b[0;36m  File \u001b[0;32m\"<ipython-input-10-f0a2f097bf6a>\"\u001b[0;36m, line \u001b[0;32m4\u001b[0m\n\u001b[0;31m    print([num], 93 = \" \")\u001b[0m\n\u001b[0m                    ^\u001b[0m\n\u001b[0;31mSyntaxError\u001b[0m\u001b[0;31m:\u001b[0m invalid syntax\n"
     ]
    }
   ],
   "source": [
    "#Q3\n",
    "list1 = [10, 21, 4, 45, 66, 93] \n",
    "for num in list1: \n",
    "      if num % 2 == 0: \n",
    "        print([num], 93 = \" \")\n",
    "    "
   ]
  },
  {
   "cell_type": "code",
   "execution_count": 12,
   "metadata": {
    "collapsed": false
   },
   "outputs": [
    {
     "name": "stdout",
     "output_type": "stream",
     "text": [
      "Yes\n"
     ]
    }
   ],
   "source": [
    "#Q4 \n",
    "def reverse(s): \n",
    "    return s[::-1] \n",
    "def isPalindrome(s): \n",
    "    rev = reverse(s) \n",
    "    if (s == rev): \n",
    "        return True\n",
    "    return False\n",
    "s = \"madam\"\n",
    "ans = isPalindrome(s) \n",
    "  \n",
    "if ans == 1: \n",
    "    print(\"Yes\") \n",
    "else: \n",
    "    print(\"No\") "
   ]
  },
  {
   "cell_type": "code",
   "execution_count": 14,
   "metadata": {
    "collapsed": false
   },
   "outputs": [
    {
     "name": "stdout",
     "output_type": "stream",
     "text": [
      "(11, 'is a prime number')\n"
     ]
    }
   ],
   "source": [
    "#Q5\n",
    "num = 11\n",
    "   \n",
    "if num > 1: \n",
    "   for i in range(2, num//2): \n",
    "     \n",
    "       if (num % i) == 0: \n",
    "           print(num, \"is not a prime number\") \n",
    "           break\n",
    "   else: \n",
    "       print(num, \"is a prime number\") \n",
    "  \n",
    "else: \n",
    "   print(num, \"is not a prime number\") \n"
   ]
  },
  {
   "cell_type": "code",
   "execution_count": null,
   "metadata": {
    "collapsed": false
   },
   "outputs": [],
   "source": [
    "#Q6\n",
    "while True:  \n",
    "    try: \n",
    "        bg = float(input(\"Enter your budget : \")) \n",
    "        s = bg  \n",
    "    except ValueError: \n",
    "        print(\"PRINT NUMBER AS A AMOUNT\") \n",
    "        continue\n",
    "    else: \n",
    "        break\n",
    "a ={\"name\":[], \"quant\":[], \"price\":[]}\n",
    "b = list(a.values()) \n",
    "na = b[0] \n",
    "qu = b[1]\n",
    "pr = b[2]\n",
    "while True: \n",
    "    try: \n",
    "        ch = int(input(\"1.ADD\\n2.EXIT\\nEnter your choice : \")) \n",
    "    except ValueError: \n",
    "        print(\"\\nERROR: Choose only digits from the given option\") \n",
    "        continue\n",
    "    else:  \n",
    "        if ch == 1 and s>0:                       \n",
    "            pn = input(\"Enter product name : \")  \n",
    "            q = input(\"Enter quantity : \")  \n",
    "            p = float(input(\"Enter price of the product : \"))   \n",
    "  \n",
    "            if p>s:  \n",
    "                print(\"\\nCAN, T BUT THE PRODUCT\")  \n",
    "                continue\n",
    "            else: \n",
    "                if pn in na:    \n",
    "                    ind = na.index(pn)    \n",
    "                    qu.remove(qu[ind])   \n",
    "                    pr.remove(pr[ind])   \n",
    "                    qu.insert(ind, q)    \n",
    "                    pr.insert(ind, p)     \n",
    "                    s = bg-sum(pr)    \n",
    "  \n",
    "                    print(\"\\namount left\", s) \n",
    "                else: \n",
    "                    na.append(pn)   \n",
    "                    qu.append(q) \n",
    "                    pr.append(p)     \n",
    "                    s = bg-sum(pr)    \n",
    "  \n",
    "                    print(\"\\namount left\", s) \n",
    "    \n",
    "        elif s<= 0:  \n",
    "            print(\"\\nNO BUDGET\")  \n",
    "        else: \n",
    "            break  \n",
    "print(\"\\nAmount left : Rs.\", s)  \n",
    "   \n",
    "if s in pr:   \n",
    "    print(\"\\nAmount left can buy you a\", na[pr.index(s)])   \n",
    "  \n",
    "print(\"\\n\\n\\nGROCERY LIST\") \n",
    "   \n",
    "for i in range(len(na)):  \n",
    "    print(na[i], qu[i], pr[i]) \n",
    "  "
   ]
  },
  {
   "cell_type": "code",
   "execution_count": null,
   "metadata": {
    "collapsed": true
   },
   "outputs": [],
   "source": [
    "#Assignment4:Q1\n",
    "person = {\n",
    "    'first_name': 'eric',\n",
    "    'last_name': 'matthes',\n",
    "    'age': 43,\n",
    "    'city': 'sitka',\n",
    "    }\n",
    "print(person['first_name'])\n",
    "print(person['last_name'])\n",
    "print(person['age'])\n",
    "print(person['city'])"
   ]
  },
  {
   "cell_type": "code",
   "execution_count": null,
   "metadata": {
    "collapsed": true
   },
   "outputs": [],
   "source": [
    "#Q2\n",
    "Cities = {\n",
    "\n",
    "    'Newyork':  {\n",
    "\n",
    "                                'Country' : 'USA',\n",
    "\n",
    "                                'population' : '700k',\n",
    "\n",
    "                                'wonder' : 'Statue of Liberty'\n",
    "\n",
    "                              },\n",
    "\n",
    "     'Agra': {\n",
    "\n",
    "                              'Country' : 'India',\n",
    "\n",
    "                               'population' : '300k',\n",
    "\n",
    "                               'wonder' : 'Taj Mahal'\n",
    "\n",
    "                               },\n",
    "\n",
    "     'Paris': {\n",
    "\n",
    "                               'Country' : 'France',\n",
    "\n",
    "                                'population' : '500k',\n",
    "\n",
    "                                'wonder' : 'Eiffel Tower'\n",
    "\n",
    "                               }\n",
    "\n",
    "                           }\n",
    "for City, cities_info in Cities.items():\n",
    "\n",
    "                 print(\"\\nCity = \" +City)\n",
    "\n",
    "                 print(\"\\tCountry=\"+cities_info['Country'])\n",
    "\n",
    "                 print(\"\\tPopulation=\" +cities_info['population'])\n",
    "\n",
    "                 print(\"\\tWonder=\"+cities_info['wonder'])\n"
   ]
  },
  {
   "cell_type": "code",
   "execution_count": null,
   "metadata": {
    "collapsed": true
   },
   "outputs": [],
   "source": [
    "#Q3\n",
    "prompt = \"\\nEnter 'quit' when you are finished.\"\n",
    "prompt += \"\\nPlease enter your age: \"\n",
    "\n",
    "\n",
    "while True:\n",
    "    age = input(prompt)\n",
    "    age = int(age)\n",
    "\n",
    "\n",
    "    if age == 'quit':\n",
    "        break\n",
    "    elif age <= 3:\n",
    "        print(\"Your ticket is free\")\n",
    "    elif age <= 10:\n",
    "        print(\"Your ticket is $10\")\n",
    "    else:\n",
    "        print(\"Your ticket is $15\")"
   ]
  },
  {
   "cell_type": "code",
   "execution_count": null,
   "metadata": {
    "collapsed": true
   },
   "outputs": [],
   "source": [
    "#Q4\n",
    "def favorite_book(title):\n",
    "    \"\"\"Display a message about someone's favorite book.\"\"\"\n",
    "    print(title + \" is one of my favorite books.\")\n",
    "\n",
    "favorite_book('The Abstract Wild')"
   ]
  },
  {
   "cell_type": "code",
   "execution_count": null,
   "metadata": {
    "collapsed": true
   },
   "outputs": [],
   "source": [
    "#Q5\n",
    "import random\n",
    "\n",
    "   guessesTaken = 0\n",
    "\n",
    "   print('Hello! What is your name?')\n",
    "\n",
    "   myName = input()\n",
    "    \n",
    "   number = random.randint(1, 20)\n",
    "\n",
    "   print('Well, ' + myName + ', I am thinking of a number between 1 and 20.')\n",
    "\n",
    "    while guessesTaken < 6:\n",
    "\n",
    "     print('Take a guess.') \n",
    "\n",
    "     guess = input()\n",
    "\n",
    "    guess = int(guess)\n",
    "\n",
    "     guessesTaken = guessesTaken + 1\n",
    "\n",
    "     if guess < number:\n",
    "         print('Your guess is too low.') \n",
    "\n",
    "     if guess > number:\n",
    "         print('Your guess is too high.')\n",
    "     if guess == number:\n",
    "         break\n",
    "\n",
    "     if guess == number:\n",
    "\n",
    "    guessesTaken = str(guessesTaken)\n",
    "\n",
    "     print('Good job, ' + myName + '! You guessed my number in ' + guessesTaken + ' guesses!')\n",
    "\n",
    "   if guess != number:\n",
    "\n",
    "     number = str(number)\n",
    "\n",
    "     print('Nope. The number I was thinking of was ' + number)"
   ]
  },
  {
   "cell_type": "code",
   "execution_count": 1,
   "metadata": {
    "collapsed": false
   },
   "outputs": [
    {
     "data": {
      "text/plain": [
       "100"
      ]
     },
     "execution_count": 1,
     "metadata": {},
     "output_type": "execute_result"
    }
   ],
   "source": [
    "#Assignment6\n",
    "#Q1:Define object oriented programming language?\n",
    "#Ans:Objest oriented programming refers to a type of computer programming in which programmers define the data structure,and also the types of oprations that can be applied to the data stucture.\n",
    "#Q2:list down the Benefits of oop?\n",
    "#ANS:1 Object oriented systems can be easily upgraded from small to large systems.\n",
    "#    2 Message passing the techniques for communication between objects makes the interface description with external systems much simpler.\n",
    "#    3 Software complexity can be easily managed.\n",
    "#Q3: Differentiate between function and method?\n",
    "#ANS:Difference between method and function\n",
    "# 1. Simply, function and method both look similar as they perform in almost similar way, but the key difference is the concept of ‘Class and its Object‘.\n",
    "# 2. Functions can be called only by its name, as it is defined independently. But methods can’t be called by its name only, we need to invoke the class by a reference of that class in which it is defined, i.e. method is defined within a class and hence they are dependent on that class.\n",
    "#Q4 Define the following term:\n",
    "#ANS:\n",
    "# 1:Class= In python a class is created by the keyword class .\n",
    "# 2:Object=An object is created using the constructor of the class. This object will then be called the instance of the class.\n",
    "# 3:attribute:Python class attributes can lead to elegant code, as well as frustrating bugs.\n",
    "# 4:bEHAVIOR:objects that behave like the built-in types simply by supplying an appropriate subset of the special methods described in this section.\n",
    "#Q5=\n",
    "class car:\n",
    "    \n",
    "    # attributes\n",
    "        year = 2016     # car model's year\n",
    "     #  COLOR = WHITE   #COLOR OF CAR\n",
    "        mpg =  20       # mileage\n",
    "        speed = 100     # current speed\n",
    "      #  NAME = HONDA    # NAME OF CAR\n",
    "        \n",
    "    # methods\n",
    "        def accelerate(self):\n",
    "            return car.speed + 20\n",
    "\n",
    "        def brake(self):\n",
    "            return car.speed - 50\n",
    "        \n",
    "car1= car()\n",
    "            \n",
    "car1.accelerate()\n",
    "120\n",
    "\n",
    "car1.brake()\n",
    "50\n",
    "\n",
    "car1.year\n",
    "2016\n",
    "\n",
    "car1.mpg\n",
    "20\n",
    "\n",
    "car1.speed\n",
    "100    \n",
    "        \n",
    "    "
   ]
  },
  {
   "cell_type": "code",
   "execution_count": null,
   "metadata": {
    "collapsed": true
   },
   "outputs": [],
   "source": []
  }
 ],
 "metadata": {
  "anaconda-cloud": {},
  "kernelspec": {
   "display_name": "Python [default]",
   "language": "python",
   "name": "python2"
  },
  "language_info": {
   "codemirror_mode": {
    "name": "ipython",
    "version": 2
   },
   "file_extension": ".py",
   "mimetype": "text/x-python",
   "name": "python",
   "nbconvert_exporter": "python",
   "pygments_lexer": "ipython2",
   "version": "2.7.12"
  }
 },
 "nbformat": 4,
 "nbformat_minor": 1
}
